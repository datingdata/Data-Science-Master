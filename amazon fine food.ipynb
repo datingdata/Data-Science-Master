{
 "cells": [
  {
   "cell_type": "markdown",
   "id": "890d889a",
   "metadata": {},
   "source": [
    "AMAZON FINE FOOD REVIEWS"
   ]
  },
  {
   "cell_type": "code",
   "execution_count": 1,
   "id": "1ee08fae",
   "metadata": {},
   "outputs": [],
   "source": [
    "import numpy as np\n",
    "import pandas as pd\n",
    "import matplotlib.pyplot as plt\n",
    "import sqlite3\n",
    "import nltk"
   ]
  },
  {
   "cell_type": "code",
   "execution_count": 2,
   "id": "dddb199d",
   "metadata": {},
   "outputs": [],
   "source": [
    "import string\n",
    "import seaborn as sn\n"
   ]
  },
  {
   "cell_type": "code",
   "execution_count": 3,
   "id": "add712c3",
   "metadata": {},
   "outputs": [],
   "source": [
    "from sklearn.feature_extraction.text import TfidfTransformer\n",
    "from sklearn.feature_extraction.text import TfidfVectorizer\n",
    "\n",
    "from sklearn.feature_extraction.text import CountVectorizer\n",
    "from sklearn.metrics import confusion_matrix\n",
    "from sklearn import metrics\n",
    "from sklearn.metrics import roc_curve, auc"
   ]
  },
  {
   "cell_type": "code",
   "execution_count": 4,
   "id": "5f40fa18",
   "metadata": {},
   "outputs": [],
   "source": [
    "from nltk.stem.porter import PorterStemmer\n",
    "from nltk.corpus import stopwords\n",
    "from nltk.stem import PorterStemmer\n",
    "from nltk.stem.wordnet import WordNetLemmatizer"
   ]
  },
  {
   "cell_type": "code",
   "execution_count": 5,
   "id": "aeca06c7",
   "metadata": {},
   "outputs": [],
   "source": [
    "import re\n",
    "from gensim.models import Word2Vec\n",
    "from gensim.models import KeyedVectors\n",
    "import pickle\n",
    "\n",
    "from tqdm import tqdm\n",
    "import os"
   ]
  },
  {
   "cell_type": "code",
   "execution_count": 6,
   "id": "b7a3ec59",
   "metadata": {},
   "outputs": [],
   "source": [
    "con = sqlite3.connect(r'C:\\Users\\shwet\\python projects\\projects\\database.sqlite')"
   ]
  },
  {
   "cell_type": "code",
   "execution_count": 7,
   "id": "bc0839a4",
   "metadata": {},
   "outputs": [],
   "source": [
    "filtered_data = pd.read_sql_query(\"\"\" SELECT * FROM Reviews WHERE Score != 3 LIMIT 5000\"\"\", con)"
   ]
  },
  {
   "cell_type": "code",
   "execution_count": 8,
   "id": "a6169856",
   "metadata": {},
   "outputs": [
    {
     "name": "stdout",
     "output_type": "stream",
     "text": [
      "   Id   ProductId          UserId                      ProfileName  \\\n",
      "0   1  B001E4KFG0  A3SGXH7AUHU8GW                       delmartian   \n",
      "1   2  B00813GRG4  A1D87F6ZCVE5NK                           dll pa   \n",
      "2   3  B000LQOCH0   ABXLMWJIXXAIN  Natalia Corres \"Natalia Corres\"   \n",
      "3   4  B000UA0QIQ  A395BORC6FGVXV                             Karl   \n",
      "4   5  B006K2ZZ7K  A1UQRSCLF8GW1T    Michael D. Bigham \"M. Wassir\"   \n",
      "\n",
      "   HelpfulnessNumerator  HelpfulnessDenominator  Score        Time  \\\n",
      "0                     1                       1      5  1303862400   \n",
      "1                     0                       0      1  1346976000   \n",
      "2                     1                       1      4  1219017600   \n",
      "3                     3                       3      2  1307923200   \n",
      "4                     0                       0      5  1350777600   \n",
      "\n",
      "                 Summary                                               Text  \n",
      "0  Good Quality Dog Food  I have bought several of the Vitality canned d...  \n",
      "1      Not as Advertised  Product arrived labeled as Jumbo Salted Peanut...  \n",
      "2  \"Delight\" says it all  This is a confection that has been around a fe...  \n",
      "3         Cough Medicine  If you are looking for the secret ingredient i...  \n",
      "4            Great taffy  Great taffy at a great price.  There was a wid...  \n"
     ]
    }
   ],
   "source": [
    "print(filtered_data.head(5))"
   ]
  },
  {
   "cell_type": "code",
   "execution_count": 9,
   "id": "9cd1dedd",
   "metadata": {},
   "outputs": [],
   "source": [
    "def partition(x):\n",
    "    if x < 3:\n",
    "        return 0\n",
    "    return 1"
   ]
  },
  {
   "cell_type": "code",
   "execution_count": 10,
   "id": "e5308874",
   "metadata": {},
   "outputs": [],
   "source": [
    "ActualScore = filtered_data['Score']\n",
    "PositiveNegative = ActualScore.map(partition)\n",
    "filtered_data['Score'] = PositiveNegative"
   ]
  },
  {
   "cell_type": "code",
   "execution_count": 11,
   "id": "03fd0904",
   "metadata": {},
   "outputs": [
    {
     "name": "stdout",
     "output_type": "stream",
     "text": [
      "   Id   ProductId          UserId                      ProfileName  \\\n",
      "0   1  B001E4KFG0  A3SGXH7AUHU8GW                       delmartian   \n",
      "1   2  B00813GRG4  A1D87F6ZCVE5NK                           dll pa   \n",
      "2   3  B000LQOCH0   ABXLMWJIXXAIN  Natalia Corres \"Natalia Corres\"   \n",
      "3   4  B000UA0QIQ  A395BORC6FGVXV                             Karl   \n",
      "4   5  B006K2ZZ7K  A1UQRSCLF8GW1T    Michael D. Bigham \"M. Wassir\"   \n",
      "\n",
      "   HelpfulnessNumerator  HelpfulnessDenominator  Score        Time  \\\n",
      "0                     1                       1      1  1303862400   \n",
      "1                     0                       0      0  1346976000   \n",
      "2                     1                       1      1  1219017600   \n",
      "3                     3                       3      0  1307923200   \n",
      "4                     0                       0      1  1350777600   \n",
      "\n",
      "                 Summary                                               Text  \n",
      "0  Good Quality Dog Food  I have bought several of the Vitality canned d...  \n",
      "1      Not as Advertised  Product arrived labeled as Jumbo Salted Peanut...  \n",
      "2  \"Delight\" says it all  This is a confection that has been around a fe...  \n",
      "3         Cough Medicine  If you are looking for the secret ingredient i...  \n",
      "4            Great taffy  Great taffy at a great price.  There was a wid...  \n",
      "(5000, 10)\n"
     ]
    }
   ],
   "source": [
    "print(filtered_data.head(5))\n",
    "print(filtered_data.shape)"
   ]
  },
  {
   "cell_type": "code",
   "execution_count": 12,
   "id": "7874b861",
   "metadata": {},
   "outputs": [],
   "source": [
    "display = pd.read_sql_query(\"\"\" SELECT ProductId, UserId, ProfileName, Score, Time, COUNT(*) FROM Reviews GROUP BY UserId\n",
    "HAVING COUNT(*)>2\"\"\" , con)"
   ]
  },
  {
   "cell_type": "code",
   "execution_count": 13,
   "id": "ec2ca229",
   "metadata": {},
   "outputs": [
    {
     "name": "stdout",
     "output_type": "stream",
     "text": [
      "    ProductId              UserId             ProfileName  Score        Time  \\\n",
      "0  B005HG9ESG  #oc-R11D9D7SHXIJB9  Louis E. Emory \"hoppy\"      5  1342396800   \n",
      "1  B005HG9ESG  #oc-R11O5J5ZVQE25C           Penguin Chick      5  1346889600   \n",
      "2  B005HG9ESG  #oc-R12MGTQS5KZZRV       SKY2110 \"SKY2110\"      5  1344211200   \n",
      "3  B005HG9ESG  #oc-R13NNUL4EKL4FL        N. Chernyavskaya      1  1348358400   \n",
      "4  B005HG9ESG  #oc-R14ZSRYW2YB41B              A. Crafton      5  1346284800   \n",
      "\n",
      "   COUNT(*)  \n",
      "0         3  \n",
      "1         3  \n",
      "2         3  \n",
      "3         3  \n",
      "4         3  \n"
     ]
    },
    {
     "data": {
      "text/plain": [
       "(48010, 6)"
      ]
     },
     "execution_count": 13,
     "metadata": {},
     "output_type": "execute_result"
    }
   ],
   "source": [
    "print(display.head(5))\n",
    "display.shape"
   ]
  },
  {
   "cell_type": "code",
   "execution_count": 14,
   "id": "01405974",
   "metadata": {},
   "outputs": [
    {
     "data": {
      "text/plain": [
       "327747"
      ]
     },
     "execution_count": 14,
     "metadata": {},
     "output_type": "execute_result"
    }
   ],
   "source": [
    "display['COUNT(*)'].sum()"
   ]
  },
  {
   "cell_type": "code",
   "execution_count": 15,
   "id": "cb582bb8",
   "metadata": {},
   "outputs": [],
   "source": [
    "display = pd.read_sql_query(\"\"\" SELECT * FROM Reviews WHERE Score != 0 AND UserId = \"AR5J8UI46CURR\" ORDER BY ProductId\"\"\", con)"
   ]
  },
  {
   "cell_type": "code",
   "execution_count": 16,
   "id": "382c971d",
   "metadata": {},
   "outputs": [
    {
     "name": "stdout",
     "output_type": "stream",
     "text": [
      "       Id   ProductId         UserId      ProfileName  HelpfulnessNumerator  \\\n",
      "0   78445  B000HDL1RQ  AR5J8UI46CURR  Geetha Krishnan                     2   \n",
      "1  138317  B000HDOPYC  AR5J8UI46CURR  Geetha Krishnan                     2   \n",
      "2  138277  B000HDOPYM  AR5J8UI46CURR  Geetha Krishnan                     2   \n",
      "3   73791  B000HDOPZG  AR5J8UI46CURR  Geetha Krishnan                     2   \n",
      "4  155049  B000PAQ75C  AR5J8UI46CURR  Geetha Krishnan                     2   \n",
      "\n",
      "   HelpfulnessDenominator  Score        Time  \\\n",
      "0                       2      5  1199577600   \n",
      "1                       2      5  1199577600   \n",
      "2                       2      5  1199577600   \n",
      "3                       2      5  1199577600   \n",
      "4                       2      5  1199577600   \n",
      "\n",
      "                             Summary  \\\n",
      "0  LOACKER QUADRATINI VANILLA WAFERS   \n",
      "1  LOACKER QUADRATINI VANILLA WAFERS   \n",
      "2  LOACKER QUADRATINI VANILLA WAFERS   \n",
      "3  LOACKER QUADRATINI VANILLA WAFERS   \n",
      "4  LOACKER QUADRATINI VANILLA WAFERS   \n",
      "\n",
      "                                                Text  \n",
      "0  DELICIOUS WAFERS. I FIND THAT EUROPEAN WAFERS ...  \n",
      "1  DELICIOUS WAFERS. I FIND THAT EUROPEAN WAFERS ...  \n",
      "2  DELICIOUS WAFERS. I FIND THAT EUROPEAN WAFERS ...  \n",
      "3  DELICIOUS WAFERS. I FIND THAT EUROPEAN WAFERS ...  \n",
      "4  DELICIOUS WAFERS. I FIND THAT EUROPEAN WAFERS ...  \n"
     ]
    },
    {
     "data": {
      "text/plain": [
       "(5, 10)"
      ]
     },
     "execution_count": 16,
     "metadata": {},
     "output_type": "execute_result"
    }
   ],
   "source": [
    "print(display)\n",
    "display.shape"
   ]
  },
  {
   "cell_type": "code",
   "execution_count": 17,
   "id": "385bb8d6",
   "metadata": {},
   "outputs": [],
   "source": [
    "final = filtered_data.drop_duplicates(subset={'UserId', 'ProfileName','Score', 'Time', 'Text'}, keep='first', inplace=False)"
   ]
  },
  {
   "cell_type": "code",
   "execution_count": 18,
   "id": "03220e2a",
   "metadata": {},
   "outputs": [
    {
     "data": {
      "text/plain": [
       "(4986, 10)"
      ]
     },
     "execution_count": 18,
     "metadata": {},
     "output_type": "execute_result"
    }
   ],
   "source": [
    "final.shape"
   ]
  },
  {
   "cell_type": "code",
   "execution_count": 19,
   "id": "2abe46a3",
   "metadata": {},
   "outputs": [
    {
     "data": {
      "text/plain": [
       "99.72"
      ]
     },
     "execution_count": 19,
     "metadata": {},
     "output_type": "execute_result"
    }
   ],
   "source": [
    "(final['Id'].size*1.0)/(filtered_data['Id'].size*1.0)*100"
   ]
  },
  {
   "cell_type": "code",
   "execution_count": 21,
   "id": "489109e1",
   "metadata": {},
   "outputs": [
    {
     "name": "stdout",
     "output_type": "stream",
     "text": [
      "   Id   ProductId          UserId                      ProfileName  \\\n",
      "0   1  B001E4KFG0  A3SGXH7AUHU8GW                       delmartian   \n",
      "1   2  B00813GRG4  A1D87F6ZCVE5NK                           dll pa   \n",
      "2   3  B000LQOCH0   ABXLMWJIXXAIN  Natalia Corres \"Natalia Corres\"   \n",
      "3   4  B000UA0QIQ  A395BORC6FGVXV                             Karl   \n",
      "4   5  B006K2ZZ7K  A1UQRSCLF8GW1T    Michael D. Bigham \"M. Wassir\"   \n",
      "\n",
      "   HelpfulnessNumerator  HelpfulnessDenominator  Score        Time  \\\n",
      "0                     1                       1      1  1303862400   \n",
      "1                     0                       0      0  1346976000   \n",
      "2                     1                       1      1  1219017600   \n",
      "3                     3                       3      0  1307923200   \n",
      "4                     0                       0      1  1350777600   \n",
      "\n",
      "                 Summary                                               Text  \n",
      "0  Good Quality Dog Food  I have bought several of the Vitality canned d...  \n",
      "1      Not as Advertised  Product arrived labeled as Jumbo Salted Peanut...  \n",
      "2  \"Delight\" says it all  This is a confection that has been around a fe...  \n",
      "3         Cough Medicine  If you are looking for the secret ingredient i...  \n",
      "4            Great taffy  Great taffy at a great price.  There was a wid...  \n"
     ]
    }
   ],
   "source": [
    "print(final.head(5))"
   ]
  },
  {
   "cell_type": "code",
   "execution_count": 22,
   "id": "ec8e5683",
   "metadata": {},
   "outputs": [
    {
     "data": {
      "text/html": [
       "<div>\n",
       "<style scoped>\n",
       "    .dataframe tbody tr th:only-of-type {\n",
       "        vertical-align: middle;\n",
       "    }\n",
       "\n",
       "    .dataframe tbody tr th {\n",
       "        vertical-align: top;\n",
       "    }\n",
       "\n",
       "    .dataframe thead th {\n",
       "        text-align: right;\n",
       "    }\n",
       "</style>\n",
       "<table border=\"1\" class=\"dataframe\">\n",
       "  <thead>\n",
       "    <tr style=\"text-align: right;\">\n",
       "      <th></th>\n",
       "      <th>Id</th>\n",
       "      <th>ProductId</th>\n",
       "      <th>UserId</th>\n",
       "      <th>ProfileName</th>\n",
       "      <th>HelpfulnessNumerator</th>\n",
       "      <th>HelpfulnessDenominator</th>\n",
       "      <th>Score</th>\n",
       "      <th>Time</th>\n",
       "      <th>Summary</th>\n",
       "      <th>Text</th>\n",
       "    </tr>\n",
       "  </thead>\n",
       "  <tbody>\n",
       "    <tr>\n",
       "      <th>0</th>\n",
       "      <td>64422</td>\n",
       "      <td>B000MIDROQ</td>\n",
       "      <td>A161DK06JJMCYF</td>\n",
       "      <td>J. E. Stephens \"Jeanne\"</td>\n",
       "      <td>3</td>\n",
       "      <td>1</td>\n",
       "      <td>5</td>\n",
       "      <td>1224892800</td>\n",
       "      <td>Bought This for My Son at College</td>\n",
       "      <td>My son loves spaghetti so I didn't hesitate or...</td>\n",
       "    </tr>\n",
       "    <tr>\n",
       "      <th>1</th>\n",
       "      <td>44737</td>\n",
       "      <td>B001EQ55RW</td>\n",
       "      <td>A2V0I904FH7ABY</td>\n",
       "      <td>Ram</td>\n",
       "      <td>3</td>\n",
       "      <td>2</td>\n",
       "      <td>4</td>\n",
       "      <td>1212883200</td>\n",
       "      <td>Pure cocoa taste with crunchy almonds inside</td>\n",
       "      <td>It was almost a 'love at first bite' - the per...</td>\n",
       "    </tr>\n",
       "  </tbody>\n",
       "</table>\n",
       "</div>"
      ],
      "text/plain": [
       "      Id   ProductId          UserId              ProfileName  \\\n",
       "0  64422  B000MIDROQ  A161DK06JJMCYF  J. E. Stephens \"Jeanne\"   \n",
       "1  44737  B001EQ55RW  A2V0I904FH7ABY                      Ram   \n",
       "\n",
       "   HelpfulnessNumerator  HelpfulnessDenominator  Score        Time  \\\n",
       "0                     3                       1      5  1224892800   \n",
       "1                     3                       2      4  1212883200   \n",
       "\n",
       "                                        Summary  \\\n",
       "0             Bought This for My Son at College   \n",
       "1  Pure cocoa taste with crunchy almonds inside   \n",
       "\n",
       "                                                Text  \n",
       "0  My son loves spaghetti so I didn't hesitate or...  \n",
       "1  It was almost a 'love at first bite' - the per...  "
      ]
     },
     "execution_count": 22,
     "metadata": {},
     "output_type": "execute_result"
    }
   ],
   "source": [
    "display = pd.read_sql_query(\"\"\" SELECT * FROM Reviews WHERE Score !=0 AND Id=44737 OR Id=64422 ORDER BY ProductId\"\"\" , con)\n",
    "display.head()"
   ]
  },
  {
   "cell_type": "code",
   "execution_count": 24,
   "id": "9cd8240d",
   "metadata": {},
   "outputs": [
    {
     "data": {
      "text/plain": [
       "(4986, 10)"
      ]
     },
     "execution_count": 24,
     "metadata": {},
     "output_type": "execute_result"
    }
   ],
   "source": [
    "final = final[final.HelpfulnessNumerator<=final.HelpfulnessDenominator]\n",
    "final.shape"
   ]
  },
  {
   "cell_type": "code",
   "execution_count": 26,
   "id": "75d487d3",
   "metadata": {},
   "outputs": [
    {
     "data": {
      "text/plain": [
       "1    4178\n",
       "0     808\n",
       "Name: Score, dtype: int64"
      ]
     },
     "execution_count": 26,
     "metadata": {},
     "output_type": "execute_result"
    }
   ],
   "source": [
    "final['Score'].value_counts()"
   ]
  },
  {
   "cell_type": "code",
   "execution_count": 27,
   "id": "0f7f1c04",
   "metadata": {},
   "outputs": [
    {
     "data": {
      "text/plain": [
       "0    I have bought several of the Vitality canned d...\n",
       "1    Product arrived labeled as Jumbo Salted Peanut...\n",
       "2    This is a confection that has been around a fe...\n",
       "3    If you are looking for the secret ingredient i...\n",
       "4    Great taffy at a great price.  There was a wid...\n",
       "Name: Text, dtype: object"
      ]
     },
     "execution_count": 27,
     "metadata": {},
     "output_type": "execute_result"
    }
   ],
   "source": [
    "final['Text'].head()"
   ]
  },
  {
   "cell_type": "code",
   "execution_count": 29,
   "id": "85d53f05",
   "metadata": {},
   "outputs": [],
   "source": [
    "count_vect = CountVectorizer()\n",
    "final_count = count_vect.fit_transform(final['Text'].values)"
   ]
  },
  {
   "cell_type": "code",
   "execution_count": 34,
   "id": "0d42bd03",
   "metadata": {},
   "outputs": [
    {
     "data": {
      "text/plain": [
       "(4986, 13510)"
      ]
     },
     "execution_count": 34,
     "metadata": {},
     "output_type": "execute_result"
    }
   ],
   "source": [
    "final_count.get_shape()"
   ]
  },
  {
   "cell_type": "code",
   "execution_count": null,
   "id": "158f81dc",
   "metadata": {},
   "outputs": [],
   "source": []
  }
 ],
 "metadata": {
  "kernelspec": {
   "display_name": "Python 3 (ipykernel)",
   "language": "python",
   "name": "python3"
  },
  "language_info": {
   "codemirror_mode": {
    "name": "ipython",
    "version": 3
   },
   "file_extension": ".py",
   "mimetype": "text/x-python",
   "name": "python",
   "nbconvert_exporter": "python",
   "pygments_lexer": "ipython3",
   "version": "3.10.9"
  }
 },
 "nbformat": 4,
 "nbformat_minor": 5
}
